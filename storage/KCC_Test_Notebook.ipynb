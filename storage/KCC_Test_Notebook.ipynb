{
 "cells": [
  {
   "cell_type": "code",
   "execution_count": 1,
   "id": "03f8fea7-5b9f-4fa0-b17c-230c786d69e9",
   "metadata": {},
   "outputs": [
    {
     "name": "stderr",
     "output_type": "stream",
     "text": [
      "Setting default log level to \"WARN\".\n",
      "To adjust logging level use sc.setLogLevel(newLevel). For SparkR, use setLogLevel(newLevel).\n",
      "25/05/22 15:59:59 WARN NativeCodeLoader: Unable to load native-hadoop library for your platform... using builtin-java classes where applicable\n",
      "                                                                                "
     ]
    }
   ],
   "source": [
    "from pyspark.sql import SparkSession\n",
    "from pyspark.sql.types import *\n",
    "import pyspark.sql.functions as F\n",
    "from pyspark.sql.window import Window\n",
    "\n",
    "spark= SparkSession \\\n",
    "       .builder \\\n",
    "       .appName(\"KCC_Test_Notebook\") \\\n",
    "       .config('spark.ui.port', '4040') \\\n",
    "       .getOrCreate()\n",
    "\n",
    "# file path for all raw data parquet files\n",
    "file_path = \"/app/storage/raw_data/kcc_data_*/data.parquet\"\n",
    "\n",
    "# read all parquet files as a single dataframe\n",
    "df = spark.read.option(\"header\", True).option(\"inferSchema\", True).parquet(file_path)"
   ]
  },
  {
   "cell_type": "code",
   "execution_count": 2,
   "id": "366e2f53-5dcb-4ae2-9525-aaca5c7f47f2",
   "metadata": {},
   "outputs": [
    {
     "name": "stdout",
     "output_type": "stream",
     "text": [
      "root\n",
      " |-- state_name: string (nullable = true)\n",
      " |-- district_name: string (nullable = true)\n",
      " |-- block_name: string (nullable = true)\n",
      " |-- season: string (nullable = true)\n",
      " |-- sector: string (nullable = true)\n",
      " |-- category: string (nullable = true)\n",
      " |-- crop: string (nullable = true)\n",
      " |-- query_type: string (nullable = true)\n",
      " |-- query_text: string (nullable = true)\n",
      " |-- kcc_ans: string (nullable = true)\n",
      " |-- created_on: timestamp (nullable = true)\n",
      " |-- year: long (nullable = true)\n",
      " |-- month: long (nullable = true)\n",
      " |-- _dlt_load_id: string (nullable = true)\n",
      " |-- _dlt_id: string (nullable = true)\n",
      "\n"
     ]
    }
   ],
   "source": [
    "df.printSchema()"
   ]
  },
  {
   "cell_type": "markdown",
   "id": "798503ff-c205-401b-8e7e-5d6565d20a5f",
   "metadata": {},
   "source": [
    "# 1. Data Exploration"
   ]
  },
  {
   "cell_type": "code",
   "execution_count": 3,
   "id": "7b6dff61-57a8-4eb1-afb3-d39becf92b00",
   "metadata": {},
   "outputs": [
    {
     "name": "stdout",
     "output_type": "stream",
     "text": [
      "+-------------+--------------+-----------------+------+------------+----------+--------+-------------------+--------------------+--------------------+--------------------+----+-----+-----------------+--------------+\n",
      "|   state_name| district_name|       block_name|season|      sector|  category|    crop|         query_type|          query_text|             kcc_ans|          created_on|year|month|     _dlt_load_id|       _dlt_id|\n",
      "+-------------+--------------+-----------------+------+------------+----------+--------+-------------------+--------------------+--------------------+--------------------+----+-----+-----------------+--------------+\n",
      "|       PUNJAB|     GURDASPUR|FATEHGARH CHURIAN|    NA| AGRICULTURE|    Others|  Others|            Weather|Farmer asked quer...|\\t\\t\\t\\n ਜਿਲ੍ਹੇ ਦ...|2021-03-11 11:17:...|2021|    3|1747834131.999308|j7aHEcr8qDusAw|\n",
      "|    TELANGANA|WARANGAL RURAL|        SHAYAMPET|    NA|HORTICULTURE|Vegetables|Chillies|Nutrient Management|CHILLI NUTRIENT M...|ఒక ఎకరాకు అగ్రోమి...|2021-03-11 11:17:...|2021|    3|1747834131.999308|Af88VOab4Ieu5g|\n",
      "|  MAHARASHTRA|         AKOLA|            PATUR|    NA| AGRICULTURE|    Others|  Others| Government Schemes|FARMER ASKING ABO...|शासकीय योजनांबद्द...|2021-03-11 11:18:...|2021|    3|1747834131.999308|GNESM6vZuvre4A|\n",
      "|UTTAR PRADESH|  SHAHJAHANPUR|            KALAN|    NA| AGRICULTURE|   Cereals|   Wheat|            Weather|Information about...|श्रीमान जी आपके य...|2021-03-11 11:18:...|2021|    3|1747834131.999308|1QmE10M6HdaFRw|\n",
      "|  MAHARASHTRA|          PUNE|           HAVELI|    NA|HORTICULTURE|Vegetables|Chillies| Cultural Practices|ASKED ABOUT CHILL...|उष्‍ण आणि दमट हवा...|2021-03-11 11:18:...|2021|    3|1747834131.999308|gEraeVxEXtWWIw|\n",
      "+-------------+--------------+-----------------+------+------------+----------+--------+-------------------+--------------------+--------------------+--------------------+----+-----+-----------------+--------------+\n",
      "only showing top 5 rows\n",
      "\n"
     ]
    }
   ],
   "source": [
    "df.show(n=5)"
   ]
  },
  {
   "cell_type": "code",
   "execution_count": 4,
   "id": "84505ac3-5b12-4726-b1c8-f1e8531bc09f",
   "metadata": {},
   "outputs": [
    {
     "name": "stderr",
     "output_type": "stream",
     "text": [
      "                                                                                "
     ]
    },
    {
     "data": {
      "text/plain": [
       "9455891"
      ]
     },
     "execution_count": 4,
     "metadata": {},
     "output_type": "execute_result"
    }
   ],
   "source": [
    "df.count()"
   ]
  },
  {
   "cell_type": "markdown",
   "id": "2756bc4c-2cf6-465a-9865-438435e20720",
   "metadata": {},
   "source": [
    "*The dataset contains more than 9 million records*"
   ]
  },
  {
   "cell_type": "code",
   "execution_count": 5,
   "id": "a7e0e18a-c267-4c0f-8203-016cc44dd689",
   "metadata": {},
   "outputs": [
    {
     "name": "stderr",
     "output_type": "stream",
     "text": [
      "[Stage 6:=================================================>       (13 + 2) / 15]"
     ]
    },
    {
     "name": "stdout",
     "output_type": "stream",
     "text": [
      "+--------------------+---------+\n",
      "|          state_name|row_count|\n",
      "+--------------------+---------+\n",
      "|       UTTAR PRADESH|  1665263|\n",
      "|           RAJASTHAN|  1142087|\n",
      "|         MAHARASHTRA|   941201|\n",
      "|      MADHYA PRADESH|   823181|\n",
      "|             HARYANA|   608851|\n",
      "|              PUNJAB|   540432|\n",
      "|             GUJARAT|   510669|\n",
      "|           TAMILNADU|   444472|\n",
      "|           KARNATAKA|   427137|\n",
      "|               BIHAR|   400259|\n",
      "|         WEST BENGAL|   330873|\n",
      "|              ODISHA|   307744|\n",
      "|      ANDHRA PRADESH|   245313|\n",
      "|           TELANGANA|   211017|\n",
      "|    HIMACHAL PRADESH|   189299|\n",
      "|   JAMMU AND KASHMIR|   147530|\n",
      "|        CHHATTISGARH|   119418|\n",
      "|         UTTARAKHAND|    97310|\n",
      "|            JHARKAND|    71791|\n",
      "|              KERALA|    69213|\n",
      "|               ASSAM|    59249|\n",
      "|               DELHI|    47386|\n",
      "|                  NA|    29645|\n",
      "|             TRIPURA|     8598|\n",
      "|          PUDUCHERRY|     3516|\n",
      "|           MEGHALAYA|     3378|\n",
      "|             MANIPUR|     2765|\n",
      "|              SIKKIM|     1941|\n",
      "|             MIZORAM|     1659|\n",
      "|                 GOA|     1083|\n",
      "|     A AND N ISLANDS|      966|\n",
      "|   ARUNACHAL PRADESH|      915|\n",
      "|            NAGALAND|      567|\n",
      "|          CHANDIGARH|      350|\n",
      "|         LAKSHADWEEP|      312|\n",
      "|DADRA AND NAGAR H...|      288|\n",
      "|                  0 |      115|\n",
      "|       DAMAN AND DIU|       98|\n",
      "+--------------------+---------+\n",
      "\n"
     ]
    },
    {
     "name": "stderr",
     "output_type": "stream",
     "text": [
      "                                                                                "
     ]
    }
   ],
   "source": [
    "state_count = df.groupBy(\"state_name\").agg(F.count(\"state_name\").alias(\"row_count\"))\\\n",
    "                        .orderBy(F.col(\"row_count\").desc())\n",
    "\n",
    "state_count.show(n=100)"
   ]
  },
  {
   "cell_type": "markdown",
   "id": "57edae5e-787e-49e3-83be-6cc351320983",
   "metadata": {},
   "source": [
    "*Incorrect values - \"0\", \"NA\"*"
   ]
  },
  {
   "cell_type": "code",
   "execution_count": 6,
   "id": "709fc0ca-996f-46a1-a9e1-51b59e94a6be",
   "metadata": {},
   "outputs": [
    {
     "name": "stderr",
     "output_type": "stream",
     "text": [
      "[Stage 9:=============================================>           (12 + 2) / 15]"
     ]
    },
    {
     "name": "stdout",
     "output_type": "stream",
     "text": [
      "+--------------+---------+\n",
      "| district_name|row_count|\n",
      "+--------------+---------+\n",
      "|          9999|    88064|\n",
      "|   HANUMANGARH|    85093|\n",
      "|      JUNAGADH|    80621|\n",
      "|        HISSAR|    76499|\n",
      "|        JAIPUR|    75317|\n",
      "|        NAGAUR|    74335|\n",
      "|        BARMER|    73553|\n",
      "|    AHMADNAGAR|    73281|\n",
      "|    AURANGABAD|    67757|\n",
      "|         CHURU|    65801|\n",
      "|       BIKANER|    65599|\n",
      "|       BHIWANI|    65589|\n",
      "|      BHATINDA|    64754|\n",
      "|       JODHPUR|    64163|\n",
      "|       BULDANA|    62391|\n",
      "|         SIRSA|    60918|\n",
      "|       KURNOOL|    60372|\n",
      "|         ALWAR|    60078|\n",
      "|        NANDED|    60035|\n",
      "|       SOLAPUR|    58359|\n",
      "|         NASIK|    57758|\n",
      "|  BANAS KANTHA|    54656|\n",
      "|    GANGANAGAR|    52106|\n",
      "|       SITAPUR|    48239|\n",
      "|          JIND|    47975|\n",
      "|      YEVATMAL|    46402|\n",
      "|          BEED|    46197|\n",
      "|     FATEHABAD|    46053|\n",
      "|   VILLUPPURAM|    46039|\n",
      "|      BAREILLY|    45897|\n",
      "|         JALNA|    45471|\n",
      "|       SANGRUR|    44451|\n",
      "|      JAMNAGAR|    43848|\n",
      "|         SAGAR|    43788|\n",
      "|     BHARATPUR|    43415|\n",
      "|      PARBHANI|    43230|\n",
      "|      JHALAWAR|    42987|\n",
      "|     JHUNJHUNU|    42958|\n",
      "|         SIKAR|    42722|\n",
      "|       BARGARH|    42614|\n",
      "|TIRUVANNAMALAI|    41179|\n",
      "|         KHERI|    40773|\n",
      "|     ALLAHABAD|    40746|\n",
      "|         MANDI|    39608|\n",
      "|  BULANDSHAHAR|    39405|\n",
      "|    BARDDHAMAN|    39288|\n",
      "|       JAUNPUR|    38658|\n",
      "|        BADAUN|    38537|\n",
      "|         MANSA|    37993|\n",
      "|       JALGAON|    37812|\n",
      "|       RAJGARH|    37318|\n",
      "|       PATIALA|    37061|\n",
      "|       BIJAPUR|    37049|\n",
      "|        RAJKOT|    37007|\n",
      "|      FAIZABAD|    36849|\n",
      "|        WASHIM|    36780|\n",
      "|     GURDASPUR|    36367|\n",
      "|    PRATAPGARH|    35754|\n",
      "|       ALIGARH|    35643|\n",
      "|        HARDOI|    35428|\n",
      "|    CHHINDWARA|    34861|\n",
      "|      GHAZIPUR|    34435|\n",
      "|      MANDSAUR|    34188|\n",
      "|         JAMMU|    34166|\n",
      "|     BARABANKI|    33974|\n",
      "|      ANANTPUR|    33938|\n",
      "|      AMRAVATI|    33886|\n",
      "|      SHIVPURI|    33561|\n",
      "|     JAISALMER|    33244|\n",
      "|         GONDA|    33222|\n",
      "|         AKOLA|    32959|\n",
      "|      LALITPUR|    32860|\n",
      "|      GULBARGA|    32828|\n",
      "|        UJJAIN|    32461|\n",
      "|    SAHARANPUR|    32235|\n",
      "|  CHITTAURGARH|    32200|\n",
      "|  KANPUR DEHAT|    31799|\n",
      "|       BELLARY|    31718|\n",
      "|      FEROZPUR|    31707|\n",
      "|  SHAHJAHANPUR|    31487|\n",
      "|        SHIMLA|    30810|\n",
      "|       HINGOLI|    30809|\n",
      "|      MIRZAPUR|    30386|\n",
      "|       MUKTSAR|    30373|\n",
      "| MAHENDRA GARH|    30373|\n",
      "|          ETAH|    30353|\n",
      "|         JALOR|    30158|\n",
      "|     OSMANABAD|    29938|\n",
      "|   MURSHIDABAD|    29885|\n",
      "|      AZAMGARH|    29646|\n",
      "|            NA|    29645|\n",
      "|     CUDDALORE|    29597|\n",
      "|    HOSHIARPUR|    29000|\n",
      "|       BELGAUM|    28932|\n",
      "|        JHANSI|    28759|\n",
      "|        KANGRA|    28622|\n",
      "|      AMRITSAR|    28576|\n",
      "|     SULTANPUR|    28561|\n",
      "|          PUNE|    28318|\n",
      "|         LATUR|    28260|\n",
      "+--------------+---------+\n",
      "only showing top 100 rows\n",
      "\n"
     ]
    },
    {
     "name": "stderr",
     "output_type": "stream",
     "text": [
      "                                                                                "
     ]
    }
   ],
   "source": [
    "district_count = df.groupBy(\"district_name\").agg(F.count(\"district_name\").alias(\"row_count\"))\\\n",
    "                        .orderBy(F.col(\"row_count\").desc())\n",
    "\n",
    "district_count.show(n=100)"
   ]
  },
  {
   "cell_type": "markdown",
   "id": "ed37c8ee-b948-4195-81df-2a7f39c15474",
   "metadata": {},
   "source": [
    "*Incorrect values - \"9999\", \"NA\"*"
   ]
  },
  {
   "cell_type": "code",
   "execution_count": 7,
   "id": "9c3117a9-6241-4519-ac2f-b63369339b07",
   "metadata": {},
   "outputs": [
    {
     "name": "stderr",
     "output_type": "stream",
     "text": [
      "[Stage 12:================================================>       (13 + 2) / 15]"
     ]
    },
    {
     "name": "stdout",
     "output_type": "stream",
     "text": [
      "+----------------+---------+\n",
      "|      block_name|row_count|\n",
      "+----------------+---------+\n",
      "|            0   |  1866467|\n",
      "|              NA|    29645|\n",
      "|         RAJGARH|    29572|\n",
      "|     HANUMANGARH|    27036|\n",
      "|           NOHAR|    22354|\n",
      "|       JAISALMER|    21191|\n",
      "|          BHADRA|    18873|\n",
      "|           DELHI|    18208|\n",
      "|          BARMER|    17495|\n",
      "|   TALWANDI SABO|    15397|\n",
      "|        BATHINDA|    14275|\n",
      "|         KOLAYAT|    13655|\n",
      "|         HANSI-I|    13352|\n",
      "|         ADAMPUR|    13183|\n",
      "|       FATEHABAD|    12977|\n",
      "|         HISAR-I|    12922|\n",
      "|           OSIAN|    12814|\n",
      "|        MALEGAON|    12494|\n",
      "|    MAHENDRAGARH|    12354|\n",
      "|    SARDARSHAHAR|    12098|\n",
      "|          NAGAUR|    11901|\n",
      "|          THARAD|    11758|\n",
      "|      BHOPALGARH|    11634|\n",
      "|       KALYANPUR|    11573|\n",
      "|         BIKANER|    11309|\n",
      "|          LOHARU|    11279|\n",
      "|           SIRSA|    11252|\n",
      "|       TARANAGAR|    11122|\n",
      "|         DABWALI|    11101|\n",
      "|          TOSHAM|    11036|\n",
      "|       NAWABGANJ|    10928|\n",
      "|  PIRAWA (SUNEL)|    10791|\n",
      "|         BARWALA|    10679|\n",
      "|NATHUSARI CHOPTA|    10672|\n",
      "|      DHORIMANNA|    10654|\n",
      "|     JHALRAPATAN|    10618|\n",
      "|     LUNKARANSAR|    10575|\n",
      "|        AJNALA-1|    10566|\n",
      "|         BHIWANI|    10355|\n",
      "|           MANSA|    10338|\n",
      "|        BUDHLADA|     9964|\n",
      "|         CHOHTAN|     9877|\n",
      "|           SAGAR|     9633|\n",
      "|           NOKHA|     9630|\n",
      "|             VAV|     9561|\n",
      "|      GIDDERBAHA|     9547|\n",
      "|    LACHHMANGARH|     9454|\n",
      "|        FARIDKOT|     9430|\n",
      "|         PHALODI|     9426|\n",
      "|         BIJAPUR|     9211|\n",
      "|           MALIA|     9055|\n",
      "|           DATIA|     8967|\n",
      "|          BAYTOO|     8919|\n",
      "|    BHATTU KALAN|     8913|\n",
      "|            JIND|     8897|\n",
      "|          BARSHI|     8834|\n",
      "|           CHURU|     8795|\n",
      "|         NARWANA|     8702|\n",
      "|        RAMNAGAR|     8602|\n",
      "|        FATEHPUR|     8492|\n",
      "|           RANIA|     8424|\n",
      "|       SURATGARH|     8417|\n",
      "|      GANGANAGAR|     8409|\n",
      "|         HADGAON|     8378|\n",
      "|          BADHRA|     8295|\n",
      "|          SEHORE|     8289|\n",
      "|           BHUNA|     8252|\n",
      "|         KUDLIGI|     8139|\n",
      "|        VAIJAPUR|     8122|\n",
      "|        RAJNAGAR|     8066|\n",
      "|        SANCHORE|     8002|\n",
      "|        ANUPGARH|     7957|\n",
      "|        MANDSAUR|     7919|\n",
      "|          BASMAT|     7875|\n",
      "|    NARSINGHGARH|     7783|\n",
      "|         BARNALA|     7724|\n",
      "|           MERTA|     7715|\n",
      "|          KANINA|     7702|\n",
      "|           PATAN|     7617|\n",
      "|  SRI DUNGARGARH|     7612|\n",
      "|          UCHANA|     7582|\n",
      "|        KHAMGAON|     7580|\n",
      "|        SHERGARH|     7577|\n",
      "|            AGAR|     7564|\n",
      "|           SUNAM|     7533|\n",
      "|         KHANDWA|     7532|\n",
      "|        BILASPUR|     7516|\n",
      "|          JULANA|     7405|\n",
      "|         ALIGANJ|     7404|\n",
      "|         KARANJA|     7393|\n",
      "|           AKOLA|     7389|\n",
      "|           BANDA|     7372|\n",
      "|     DEVANAKONDA|     7317|\n",
      "|         MUKTSAR|     7291|\n",
      "|         KAITHAL|     7263|\n",
      "|          JINTUR|     7249|\n",
      "|            SHEO|     7152|\n",
      "|       CHANCHODA|     7131|\n",
      "|        NARNAUND|     7127|\n",
      "|      MANGRULPIR|     7069|\n",
      "+----------------+---------+\n",
      "only showing top 100 rows\n",
      "\n"
     ]
    },
    {
     "name": "stderr",
     "output_type": "stream",
     "text": [
      "                                                                                "
     ]
    }
   ],
   "source": [
    "block_count = df.groupBy(\"block_name\").agg(F.count(\"block_name\").alias(\"row_count\"))\\\n",
    "                        .orderBy(F.col(\"row_count\").desc())\n",
    "\n",
    "block_count.show(n=100)"
   ]
  },
  {
   "cell_type": "markdown",
   "id": "d1542e67-6eb2-4c27-90ed-dbeff1bc6cf0",
   "metadata": {},
   "source": [
    "*More than 1.8 Million records with block name \"0\" and \"NA\" this indicates that this field is only present in the recent records.*"
   ]
  },
  {
   "cell_type": "code",
   "execution_count": 8,
   "id": "212a5d7a-98ad-47d7-aaf9-e3410725d648",
   "metadata": {},
   "outputs": [
    {
     "name": "stderr",
     "output_type": "stream",
     "text": [
      "[Stage 15:=========================================>              (11 + 2) / 15]"
     ]
    },
    {
     "name": "stdout",
     "output_type": "stream",
     "text": [
      "+------+---------+\n",
      "|season|row_count|\n",
      "+------+---------+\n",
      "|    NA|  5483285|\n",
      "|KHARIF|  1601838|\n",
      "| JAYAD|  1345796|\n",
      "|  RABI|  1024972|\n",
      "+------+---------+\n",
      "\n"
     ]
    },
    {
     "name": "stderr",
     "output_type": "stream",
     "text": [
      "                                                                                "
     ]
    }
   ],
   "source": [
    "season_count = df.groupBy(\"season\").agg(F.count(\"season\").alias(\"row_count\"))\\\n",
    "                        .orderBy(F.col(\"row_count\").desc())\n",
    "\n",
    "season_count.show(n=100)"
   ]
  },
  {
   "cell_type": "markdown",
   "id": "fc569122-687b-4bac-9bf2-9ab1b2ad1d0c",
   "metadata": {},
   "source": [
    "*5.4 Million records with season as NA*"
   ]
  },
  {
   "cell_type": "code",
   "execution_count": 9,
   "id": "4ca8400f-3cf6-4556-bbb4-5d008d09e545",
   "metadata": {},
   "outputs": [
    {
     "name": "stderr",
     "output_type": "stream",
     "text": [
      "[Stage 18:============================================>           (12 + 2) / 15]"
     ]
    },
    {
     "name": "stdout",
     "output_type": "stream",
     "text": [
      "+----------------+---------+\n",
      "|          sector|row_count|\n",
      "+----------------+---------+\n",
      "|     AGRICULTURE|  6785736|\n",
      "|    HORTICULTURE|  2228498|\n",
      "|            9999|   283606|\n",
      "|ANIMAL HUSBANDRY|   120058|\n",
      "|       FISHERIES|    19541|\n",
      "|             256|    11048|\n",
      "|             825|     7404|\n",
      "+----------------+---------+\n",
      "\n"
     ]
    },
    {
     "name": "stderr",
     "output_type": "stream",
     "text": [
      "                                                                                "
     ]
    }
   ],
   "source": [
    "sector_count = df.groupBy(\"sector\").agg(F.count(\"sector\").alias(\"row_count\"))\\\n",
    "                          .orderBy(F.col(\"row_count\").desc())\n",
    "\n",
    "sector_count.show(n=100)"
   ]
  },
  {
   "cell_type": "markdown",
   "id": "2ce4883a-8392-44f2-8bb6-16eefb1bd59e",
   "metadata": {},
   "source": [
    "*Numeric values should be invalid Values for sector*"
   ]
  },
  {
   "cell_type": "code",
   "execution_count": 20,
   "id": "128a0e1e-dc8e-4d1e-a4da-48951e9ff563",
   "metadata": {},
   "outputs": [
    {
     "name": "stderr",
     "output_type": "stream",
     "text": [
      "[Stage 55:============================================>           (12 + 2) / 15]"
     ]
    },
    {
     "name": "stdout",
     "output_type": "stream",
     "text": [
      "+--------------------+---------+\n",
      "|            category|row_count|\n",
      "+--------------------+---------+\n",
      "|              Others|  3330001|\n",
      "|             Cereals|  1337681|\n",
      "|                   0|  1329728|\n",
      "|          Vegetables|  1097450|\n",
      "|            Oilseeds|   426311|\n",
      "|              Fruits|   425933|\n",
      "|              Pulses|   377622|\n",
      "|         Fiber Crops|   304916|\n",
      "|             Millets|   165861|\n",
      "|Condiments and Sp...|   162459|\n",
      "|Sugar and Starch ...|   144145|\n",
      "|        Fodder Crops|    84935|\n",
      "|              Animal|    82015|\n",
      "|    Plantation Crops|    53950|\n",
      "|             Flowers|    42832|\n",
      "|Medicinal and Aro...|    37121|\n",
      "|              Inland|    15285|\n",
      "|                 418|    11048|\n",
      "|  Drug and Narcotics|     8722|\n",
      "|               Avian|     6358|\n",
      "|          Beekeeping|     4705|\n",
      "|        Green Manure|     4068|\n",
      "|                 417|     1691|\n",
      "|              Marine|     1051|\n",
      "|                  -1|        3|\n",
      "+--------------------+---------+\n",
      "\n"
     ]
    },
    {
     "name": "stderr",
     "output_type": "stream",
     "text": [
      "                                                                                "
     ]
    }
   ],
   "source": [
    "category_count = df.groupBy(\"category\").agg(F.count(\"category\").alias(\"row_count\"))\\\n",
    "                        .orderBy(F.col(\"row_count\").desc())\n",
    "\n",
    "category_count.show(n=100)"
   ]
  },
  {
   "cell_type": "code",
   "execution_count": 10,
   "id": "ae45b263-d108-4e5f-9aa0-73f4b8602d28",
   "metadata": {},
   "outputs": [
    {
     "name": "stderr",
     "output_type": "stream",
     "text": [
      "[Stage 21:============================================>           (12 + 2) / 15]"
     ]
    },
    {
     "name": "stdout",
     "output_type": "stream",
     "text": [
      "+--------------------+---------+\n",
      "|                crop|row_count|\n",
      "+--------------------+---------+\n",
      "|              Others|  3399458|\n",
      "|               Wheat|   666864|\n",
      "|        Paddy (Dhan)|   622351|\n",
      "|      Cotton (Kapas)|   347134|\n",
      "|                9999|   283606|\n",
      "|                1137|   178162|\n",
      "|               Onion|   154904|\n",
      "|            Chillies|   146719|\n",
      "|Groundnut (pea nu...|   135287|\n",
      "|      Soybean (bhat)|   117797|\n",
      "|              Tomato|   116943|\n",
      "|Sugarcane (Noble ...|   106460|\n",
      "|Bengal Gram (Gram...|   100000|\n",
      "|             Brinjal|    98465|\n",
      "|              Potato|    96029|\n",
      "|             Mustard|    93828|\n",
      "|Green Gram (Moong...|    86863|\n",
      "|       Maize (Makka)|    86234|\n",
      "|               Mango|    76117|\n",
      "|                1280|    68410|\n",
      "|Black Gram (urd b...|    67423|\n",
      "|                1279|    66462|\n",
      "|               Apple|    65480|\n",
      "| Bovine(Cow,Buffalo)|    64418|\n",
      "|Bhindi(Okra/Ladys...|    60677|\n",
      "|              Banana|    57241|\n",
      "|    Sunnhemp (Patua)|    57050|\n",
      "|                Guar|    55539|\n",
      "|Pigeon pea (red g...|    49776|\n",
      "|Indian rapeseed a...|    49156|\n",
      "|             Coconut|    47676|\n",
      "|Pearl Millet (Baj...|    47198|\n",
      "|                1037|    45986|\n",
      "|               Cumin|    44184|\n",
      "|                   0|    42370|\n",
      "|                1075|    41868|\n",
      "|     Pea (Vegetable)|    38269|\n",
      "|              Citrus|    36835|\n",
      "|                1268|    36681|\n",
      "|              Garlic|    35736|\n",
      "|               Lemon|    35346|\n",
      "|                1282|    34160|\n",
      "|Sesame (Gingelly/...|    33538|\n",
      "|         Pomegranate|    32480|\n",
      "|            Cucumber|    30223|\n",
      "|                2108|    28167|\n",
      "|           Coriander|    27529|\n",
      "|            Turmeric|    27418|\n",
      "|                1064|    27089|\n",
      "|          Watermelon|    27031|\n",
      "|               Guava|    27021|\n",
      "|        Bitter Gourd|    26550|\n",
      "|       Bottle Gourd |    25989|\n",
      "|              Papaya|    25896|\n",
      "|Castor (Rehri, Re...|    25435|\n",
      "|                1066|    25312|\n",
      "|                1296|    25250|\n",
      "|         Cauliflower|    22705|\n",
      "|                 964|    22339|\n",
      "|                1324|    20801|\n",
      "|              Mentha|    20221|\n",
      "|             Cabbage|    19730|\n",
      "|              Ginger|    17988|\n",
      "|                 Ber|    17710|\n",
      "|                1136|    17433|\n",
      "|                1275|    17200|\n",
      "|      Lentil (Masur)|    16125|\n",
      "|Peas (field peas/...|    15945|\n",
      "|       Pointed Gourd|    15626|\n",
      "|Sorghum (Jowar/Gr...|    15580|\n",
      "|                Rose|    15114|\n",
      "|                1285|    14424|\n",
      "|             Pumpkin|    13380|\n",
      "|            Capsicum|    13015|\n",
      "|            Marigold|    12681|\n",
      "|                1325|    12489|\n",
      "|                1287|    11979|\n",
      "|              Radish|    11938|\n",
      "|        Barley (Jau)|    11431|\n",
      "|Sunflower (suryam...|    11234|\n",
      "|                2103|    11156|\n",
      "|               10702|    11048|\n",
      "|         Ridge Gourd|    10746|\n",
      "|                2113|    10669|\n",
      "|            Mushroom|    10573|\n",
      "|                2114|    10131|\n",
      "|            Oil palm|    10078|\n",
      "|          Drum Stick|     9925|\n",
      "|               Aonla|     9805|\n",
      "|  Cowpea (Vegetable)|     9436|\n",
      "|              Beans |     9384|\n",
      "|               Grape|     9354|\n",
      "|              Carrot|     9240|\n",
      "|                Goat|     8981|\n",
      "|FingerMillet  (Ra...|     8938|\n",
      "|         Fresh Water|     8891|\n",
      "|                 959|     8795|\n",
      "|              Orange|     8512|\n",
      "|             Barseem|     8111|\n",
      "|          Jack Fruit|     8082|\n",
      "+--------------------+---------+\n",
      "only showing top 100 rows\n",
      "\n"
     ]
    },
    {
     "name": "stderr",
     "output_type": "stream",
     "text": [
      "                                                                                "
     ]
    }
   ],
   "source": [
    "crop_count = df.groupBy(\"crop\").agg(F.count(\"crop\").alias(\"row_count\"))\\\n",
    "                          .orderBy(F.col(\"row_count\").desc())\n",
    "\n",
    "crop_count.show(n=100)"
   ]
  },
  {
   "cell_type": "markdown",
   "id": "6d041c92-ebaf-44a2-9cfb-15f952e8db6c",
   "metadata": {},
   "source": [
    "*Here again numeric values should not be accepted*"
   ]
  },
  {
   "cell_type": "code",
   "execution_count": 11,
   "id": "5fa98248-68c3-40f6-8e16-7dd12984a9fa",
   "metadata": {},
   "outputs": [
    {
     "name": "stderr",
     "output_type": "stream",
     "text": [
      "[Stage 24:====================================================>   (14 + 1) / 15]"
     ]
    },
    {
     "name": "stdout",
     "output_type": "stream",
     "text": [
      "+--------------------+---------+\n",
      "|          query_type|row_count|\n",
      "+--------------------+---------+\n",
      "|             Weather|  2540566|\n",
      "|\\tPlant Protection\\t|  1525944|\n",
      "|  Government Schemes|   823303|\n",
      "|                   0|   417556|\n",
      "|Fertilizer Use an...|   360265|\n",
      "|  Cultural Practices|   308966|\n",
      "| Nutrient Management|   285326|\n",
      "|                9999|   283606|\n",
      "|                   3|   260031|\n",
      "|  Market Information|   239784|\n",
      "|                  76|   195290|\n",
      "|                  75|   173688|\n",
      "|                   2|   168044|\n",
      "|                   5|   167165|\n",
      "|           Varieties|   156727|\n",
      "|                  29|   140246|\n",
      "|     Weed Management|   115403|\n",
      "|               Seeds|    82112|\n",
      "|\\tWater Management\\t|    77532|\n",
      "|Seeds and Plantin...|    72414|\n",
      "|Sowing Time and W...|    58034|\n",
      "|                  22|    57606|\n",
      "|                  78|    57346|\n",
      "|\\tField Preparati...|    55587|\n",
      "|                   1|    54140|\n",
      "|Agriculture Mecha...|    49645|\n",
      "|                 187|    43074|\n",
      "|Bio-Pesticides an...|    40146|\n",
      "|                  99|    39665|\n",
      "|Training and Expo...|    37624|\n",
      "|                   6|    35849|\n",
      "|      Crop Insurance|    32876|\n",
      "|                  74|    31636|\n",
      "|        Soil Testing|    31614|\n",
      "|                 102|    27898|\n",
      "|    Dairy Production|    25868|\n",
      "|  Disease Management|    25572|\n",
      "|                  21|    22531|\n",
      "|                  19|    22322|\n",
      "|              Credit|    20286|\n",
      "|                  15|    15708|\n",
      "|                  87|    15090|\n",
      "|                   8|    13496|\n",
      "|                  45|    12859|\n",
      "|Post Harvest Pres...|    12686|\n",
      "|Vegetative Propag...|    12345|\n",
      "|Water Management,...|    12068|\n",
      "|                  92|    11183|\n",
      "|                  18|    10688|\n",
      "|                  85|     9988|\n",
      "|     Organic Farming|     9878|\n",
      "|                  26|     9798|\n",
      "|   Field Preparation|     9041|\n",
      "|                  95|     6235|\n",
      "|     Animal Breeding|     6089|\n",
      "|  Nursery Management|     5972|\n",
      "|                  27|     5573|\n",
      "|                  12|     5558|\n",
      "|Animal Production...|     5440|\n",
      "|    Animal Nutrition|     5169|\n",
      "|Tank, Pond and Re...|     5013|\n",
      "|                   9|     4539|\n",
      "|                 100|     4491|\n",
      "|                  93|     3587|\n",
      "|                  20|     3572|\n",
      "|Cattle shed Plann...|     3510|\n",
      "|                  43|     3361|\n",
      "|    Soil Health Card|     3169|\n",
      "|             Storage|     3167|\n",
      "|   Disease Reporting|     3150|\n",
      "|                  88|     3005|\n",
      "|                  91|     2983|\n",
      "|Post Harvest Mana...|     2641|\n",
      "|   Power, Roads etc.|     2610|\n",
      "|Livestock Product...|     2393|\n",
      "|                  89|     2143|\n",
      "|                  50|     2000|\n",
      "|Spices and Condim...|     1955|\n",
      "|                  16|     1820|\n",
      "|                  94|     1735|\n",
      "|         \\tPoultry\\t|     1706|\n",
      "|                  10|     1515|\n",
      "|                  38|     1430|\n",
      "|                  36|     1355|\n",
      "|  Integrated Farming|     1342|\n",
      "|   Fishery Nutrition|     1325|\n",
      "|          \\tOthers\\t|     1274|\n",
      "|                  61|     1273|\n",
      "|                  40|     1271|\n",
      "|                  44|     1225|\n",
      "| Mushroom Production|     1208|\n",
      "|        Floriculture|     1124|\n",
      "|\\tCultivation Con...|      954|\n",
      "|                  11|      945|\n",
      "|                  32|      898|\n",
      "|                  31|      894|\n",
      "|                  60|      891|\n",
      "|Water Testing for...|      840|\n",
      "|        \\tTraining\\t|      822|\n",
      "|                  58|      799|\n",
      "+--------------------+---------+\n",
      "only showing top 100 rows\n",
      "\n"
     ]
    },
    {
     "name": "stderr",
     "output_type": "stream",
     "text": [
      "                                                                                "
     ]
    }
   ],
   "source": [
    "query_type_count = df.groupBy(\"query_type\").agg(F.count(\"query_type\").alias(\"row_count\"))\\\n",
    "                          .orderBy(F.col(\"row_count\").desc())\n",
    "\n",
    "query_type_count.show(n=100)"
   ]
  },
  {
   "cell_type": "markdown",
   "id": "cc9e59b5-2268-4fd2-8988-6908e23f5166",
   "metadata": {},
   "source": [
    "*Query type is a mix of text and numeric values - supposedly the numeric values were IDs that were used initially. However since we do not have it's mapping we will replace all numeric with a placeholder*"
   ]
  },
  {
   "cell_type": "code",
   "execution_count": 12,
   "id": "46929dcf-4673-4052-bae1-3b40866cee0a",
   "metadata": {},
   "outputs": [
    {
     "name": "stdout",
     "output_type": "stream",
     "text": [
      "+------------------------------------------------------------------------------+\n",
      "|query_text                                                                    |\n",
      "+------------------------------------------------------------------------------+\n",
      "|Farmer asked query on Weather                                                 |\n",
      "|CHILLI NUTRIENT MANAGEMENT\\n                                                  |\n",
      "|FARMER ASKING ABOUT GOVERNMENT SCHEME ?\\n                                     |\n",
      "|Information about Weather forecast of Block Kalan in District Shahjahanpur…?\\n|\n",
      "|ASKED ABOUT CHILLI TEMP.?                                                     |\n",
      "|PM Kisan status query                                                         |\n",
      "|Information regarding for control of Wilt, root rot and collar rot in pea?\\n  |\n",
      "|Information about control of black Mango blossoms problem.......?             |\n",
      "|Farmer asked query on Weather                                                 |\n",
      "|ASKED ABOUT ATTACK OF Wilt (Mar)Drenching\\n                                   |\n",
      "+------------------------------------------------------------------------------+\n",
      "only showing top 10 rows\n",
      "\n"
     ]
    }
   ],
   "source": [
    "df.select(\"query_text\").show(10, truncate=False)"
   ]
  },
  {
   "cell_type": "code",
   "execution_count": 14,
   "id": "bd0cb003-ad55-49de-a9ea-1ab6ec1318bf",
   "metadata": {
    "editable": true,
    "slideshow": {
     "slide_type": ""
    },
    "tags": []
   },
   "outputs": [
    {
     "data": {
      "text/plain": [
       "['\\t\\t\\t\\n ਜਿਲ੍ਹੇ ਦਾ ਮੌਸਮ-  ਅੱਜ ਦੇ ਦਿਨ ਬੱਦਲ ਵਾਈ ਰਹੇਗੀ ਪਰ ਮੀਂਹ ਦੀ ਕੋਈ ਸੰਭਾਵਨਾ ਨਹੀਂ ਹੈ Iਪਰ ਕੱਲ   ਨੂੰ ਹਲਕੀ ਤੋਂ ਦਰਮਿਆਨੀ ਮੀਂਹ ਦੀ ਸੰਭਾਵਨਾ ਹੈ ਵੱਧ ਤੋਂ ਵੱਧ ਤਾਪਮਾਨ 30 ਡਿਗਰੀ ਸੈਲਸੀਅਸ ਅਤੇ ਘੱਟ ਤੋਂ ਘੱਟ 16 ਡਿਗਰੀ ਸੈਲਸੀਅਸ ਰਹੇਗਾ ਅਤੇ ਹਵਾ ਦੀ ਗਤੀ 20-25 ਕਿਲੋਮੀਟਰ ਪ੍ਰਤੀ ਘੰਟਾ ਹੈ I\\t\\t\\t\\n\\t\\t\\t',\n",
       " 'ఒక ఎకరాకు అగ్రోమిన్ మాక్స్ ఒక KG + ఒక ఎకరాకు 13-0-45 ఎకరాకు 1 కిలో 200 లీటర్ల నీటికి చొప్పున కలిపి ఒక ఎకరాకు పిచికారి చేయాలి\\n',\n",
       " 'शासकीय योजनांबद्दल अधिक माहितीसाठी तालुका कृषी अधिकारी याना भेट द्या .\\n',\n",
       " 'श्रीमान जी आपके यहां 12,13 मार्च के दिन मध्यम बारिश होने की संभावना है तथा 11,14,15,16 मार्च के दिन बारिश की संभावना नहीं है आंशिक रूप से बादल छाए रहेंगे तापमान 21 से 34 सेंटीग्रेड तथा हवा की गति 07 से 11 किलोमीटर प्रति घंटा चलने की संभावना है तथा कृषि कार्य मौसम के अनुसार करें |\\n',\n",
       " 'उष्\\u200dण आणि दमट हवामानात मिरची पिकाची वाढ चांगली होऊन उत्\\u200dपादन चांगले मिळते. मिरची पिकाची लागवड पावसाळा, उन्\\u200dहाळा आणि हिवाळा या तीनही हंगामात करता येते. पावसाळात जास्\\u200dत पाऊस व ढगाळ वातावरण असल्\\u200dयास फूलांची गळ जास्\\u200dत होते. पाने व फळे कुजतात. मिरचीला 40 इंचापेक्षा कमी पाऊस असणे चांगले मिरचीच्\\u200dया झाडांची आणि फळांची वाढ 25 ते 30 सेल्सिअस तापमानाला चांगली होते. आणि उत्\\u200dपादनही भरपूर येते. तापमानातील तफावतीमुळे फळे फुले गळ मोठया प्रमाणात होते. व उत्\\u200dपन्\\u200dनात घट येते. बियांची उगवण 18 ते 27 सेल्सिअस तापमानास चांगली होते.\\n\\n',\n",
       " 'Advised to contact  Assistant agriculture officer at block level regarding PM Kisan status query ',\n",
       " 'ਮਟਰ ਦੀ ਫ਼ਸਲ ਨੂੰ  ਉਖੇੜਾ ਤੇ ਜੜ੍ਹਾਂ ਅਤੇ ਗਿੱਚੀ ਦਾ ਗਲਣਾ ਰੋਗ ਤੋਂ ਬਚਾਉਣ ਲਈ 500 ਗ੍ਰਾਮ ਬਾਵਿਸਟਨ ਨੂੰ 200 ਲਿਟਰ ਪਾਣੀ ਵਿੱਚ ਮਿਲਾ ਪ੍ਰਤੀ ਏਕੜ ਵਿੱਚ ਗੜੁੱਚ ਕਰੋ ',\n",
       " 'श्रीमान जी आम के पेड़ पर Mancozeb 75% WP 30 gram/15 liter पानी  की दर से स्प्रे करे. \\n',\n",
       " 'ਮੌਸਮ-ਅੱਜ ਬਾਰਿਸ਼ ਦੀ ਕੋਈ ਸੰਭਾਵਨਾ ਨਹੀਂ ਹੈ ਪਰ ਬਦਲਵਾਈ ਬਣੀ ਰਹਿ ਸਕਦੀ ਹੈ ਕਲ ਹਲਕੇ ਬਾਰਿਸ਼ ਹੋਣ ਦੀ ਸੰਭਾਵਨਾ ਹੈ I ਵੱਧ ਤੋਂ ਵੱਧ ਤਾਪਮਾਨ 32 ਡਿਗਰੀ ਸੈਲਸੀਅਸ ਅਤੇ ਘੱਟ ਤੋਂ ਘੱਟ 15 ਡਿਗਰੀ ਸੈਲਸੀਅਸ ਰਹੇਗਾ ਅਤੇ ਹਵਾ ਦੀ ਗਤੀ 8-15 ਕਿਲੋਮੀਟਰ ਪ੍ਰਤੀ ਘੰਟਾ ਹੈ ',\n",
       " '--सुपर कोन्फिडोर (इमिडा 17.8 sl )04 मिली/15लिटर पाण्यामध्ये घेऊन फवारणी करावी.\\t\\n+साफ ४० ग्रॅम /१५ लिटर पाण्यात घेऊन फवारणी करावी\\n\\nब्ल्यु कॉपर 40 ग्रॉम + हुमिक अॅसिड 30 मिलि/15लिटर पाण्यात घेवून आळवणी करावी.\\n\\n',\n",
       " 'PLANT TO PLANT -45CM',\n",
       " 'श्रीमान जी पीएम किसान सम्मान निधि योजना के अंतर्गत आपका पंजीकरण 6 जुलाई 2019 को हुआ है तथा खाता नंबर गलत होने के कारण पीएफएमएस बैंक के द्वारा रिजेक्ट कर दिया गया है एवं आधार नंबर सत्यापित है कृपया प्रतीक्षा करें आधार के माध्यम से आपके खाते में पैसा भेजा जाएगा',\n",
       " 'कांदा बाजार भाव - पुणे मार्केट = कमीत कमी - 800  रु/क्विंटल , जास्तीस्त जास्त -1700   रु/क्विंटल  , सरासरी-  1250 रु/क्विंटल \\n',\n",
       " 'আবহাওয়ার পূর্বাভাস: আগামী কয়েক দিন বৃষ্টিপাতের সম্ভাবনা নেই, আকাশ সাধারণত মেঘলা থাকবে। আজকের প্রত্যাশিত সর্বোচ্চ তাপমাত্রা ৩৬ ডিগ্রী সেলসিয়াস এবং সর্বনিম্ন তাপমাত্রা ২২ ডিগ্রী সেলসিয়াস, এবং বাতাসের গতি ১১ কিমি প্রতি ঘন্টা।\\n',\n",
       " 'PM-KISAN HELPLINE NUMBER 080-22275038\\n',\n",
       " 'गेहू  में अंतिम पानी बिजाई के 110 - 120 दिन की फसल होने  पर लगाए|\\n',\n",
       " 'आपके जिले में मौसम 13 मार्च तक परिवर्तनशील रहेगा,हल्के बादल छाए रहेंगे और कुछ स्थानों पर गरज-चमक के साथ हल्की बूंदाबांदी की संभावना है आज अधिकतम तापमान 32 डिग्री सेल्सियस व न्यूनतम तापमान 17 डिग्री सेल्सियस रहेगा जबकि हवा की गति 9 किलोमीटर से 15 किलोमीटर प्रति घंटे की चाल से चलने की संभावना है |',\n",
       " 'सर आप Imidacloprid 17.8%SL 120 ml प्रति एकड़ 150 लीटर पानी में घोलकर स्प्रे करें |',\n",
       " '10/03/2021\\nMandi  : Mahuva(Station Road)\\nCommodity : Onion\\n(Modal Price): 980/Quintal',\n",
       " '--SEED RATE OF CHILLY  RED RIPE 75-100Q/HA AND DRY RED CHILLIES 15-20Q/HA AND BRINJAL 150-200 Q/HA  AND KNOL KHOL 200-250Q/HA',\n",
       " 'नोंब्बो में बडिंग का समय मार्च या सितम्बर माह रहता है। ',\n",
       " 'फुलांचे प्रमाण वाढवण्यासाठी -बुमफ्लॉवर ३० मिली/१५ लिटर पाण्यामध्ये घेऊन फवारणी करावी.(नायट्रोबेंझीन २०%) देवी क्रॉप सायन्स \\n',\n",
       " 'श्रीमान जी आपकी पीएम- किसान सम्मान निधि योजना की चौथी किस्त भुगतान प्रक्रिया में है, जल्द आने की संभावना है कृपया इंतजार करें|',\n",
       " 'કૃષિ સંબંધિત  ચાલુ યોજનાઓ ની વધુ જાણકારી માટે https://ikhedut.gujarat.gov.in/Public/frm_Public_SchemeDetails.aspx  વેબ્સાઈટ પર જોવું \\n',\n",
       " 'किसान भाई प्रधानमंत्री किसान सम्मान निधि योजना संबंधी बेहतर जानकारी के लिए आप आप के क्षेत्रीय ग्रामीण कृषि विस्तार अधिकारी जी से संपर्क कर सकते हैं|',\n",
       " 'हवामान विभागाच्या अंदाजानुसार आपल्या बार्शी-टाकली तालुक्यात ,या आठवड्यामध्ये वातावरण ढगाळ राहील आणि पावसाची शक्यता नाही . तापमान कमाल 37 ℃ आणि किमान 27 ℃ , वाऱ्याचा वेग 7 किमी / तास राहील, पावसाच्या अंदाजानुसार पिकाला पाणी आणि खत मात्रा द्यावी, धन्यवाद .\\n',\n",
       " 'ਜਿਲ੍ਹੇ ਦਾ ਮੌਸਮ- ਅੱਜ ਦੇ ਦਿਨ ਬੱਦਲ ਵਾਈ ਰਹੇਗੀ ਪਰ ਮੀਂਹ ਦੀ ਕੋਈ ਸੰਭਾਵਨਾ ਨਹੀਂ ਹੈ ਪਰ 12 ਮਾਰਚ ਨੂੰ ਹਲਕੀ ਤੋਂ ਦਰਮਿਆਨੀ ਮੀਂਹ ਦੀ ਸੰਭਾਵਨਾ ਹੈI ਅੱਜ ਵੱਧ ਤੋਂ ਵੱਧ ਤਾਪਮਾਨ 30 ਡਿਗਰੀ ਸੈਲਸੀਅਸ ਅਤੇ ਘੱਟ ਤੋਂ ਘੱਟ 16 ਡਿਗਰੀ ਸੈਲਸੀਅਸ ਰਹੇਗਾ ਅਤੇ ਹਵਾ ਦੀ ਗਤੀ 10-15 ਕਿਲੋਮੀਟਰ ਪ੍ਰਤੀ ਘੰਟਾ ਹੈ I',\n",
       " 'एग्रीकल्चर इंश्योरेंस कंपनी ऑफ इंडिया लिमिटेड का सम्पर्क नंबर - 1800116515\\n',\n",
       " ' श्रीमान जी पपीते की रोपाई के लिए 2 गुना 2 मीटर के अंतराल पर लंबा चौड़ा गड्ढा की खुदाई करके पौधे की रोपाई करें\\n \\n \\n',\n",
       " 'મરચાં માં ચૂસીય જીવાત નિયંત્રણ માટે તાજું ગૌમૂત્ર ૧.૫ લીટર પંપ માં લઈને છઁટ્કાવ કરવો (જેટલું જૂનું હોય એટલો ડોઝ ઓછો લેવો) અથવા ચુસીયા ના નિયઁત્રણ માટે તાજી  છાશ ૧ થી ૧.૫ લિટર /પંપ માં છઁટ્કાવ કરવો. અથવા ખાટી છાસ હોય (૧૦ થી ૧૫ દિવસ જૂની) તો ૫૦૦ મી.લી/ પંપ છંટકાવ કરવો. ',\n",
       " 'আজথেকে আগামী পাঁচ দিনের মধ্যে বৃষ্টিপাতের সম্ভাবনা আছে , আকাশ সাধারণত আংশিক মেঘলা থাকবে. আজকের প্রত্যাশিত সর্বোচ্চ তাপমাত্রা ৩৫ ডিগ্রী সেলসিয়াস, সর্বনিম্ন তাপমাত্রা ২১ ডিগ্রী সেলসিয়াস এবং বাতাসের গতি ৯ কিমি প্রতি ঘন্টা হতেপারে ।আবহাওয়ার পূর্বাভাস অনুযায়ী জমিতে সেচ বন্ধ রাখুন।',\n",
       " 'weather will be cloudy for today, there are 10%  chances of  rainfall for today (11/3/2021). in  District- samba Block- vijaypur\\n            max temp. will be ----     28°C\\n             min. temp. will be-----    16°C\\nweather will be cloudy for today , the farmer is advised that he can all the field related and agriculture work for today.\\nNOTE: AVOID SOCIAL GATHERING AND HAND WASH SHOULD BE DONE ON A REGULAR BASIS.',\n",
       " 'Query: Foliar spray for Amla (flower induce )  Answer: spray Potassium nitrate 5 gram /1 litre of water and Panchakavya 300 ml /10 litre of water ',\n",
       " 'ਫਲਾਂ ਵਿਚ ਤੇਲੈ ਅਤੇ ਚੇਪੇ ਨੂੰ ਕਾਬੂ ਕਰਨ ਲਈ 10 ਮਿਲੀਲਿਟਰ ਨਿਮਬੀਸੀਡੀਨ  ਨੂੰ ਪ੍ਰਤੀ ਲਿਟਰ ਪਾਣੀ ਵਿਚ ਘੋਲ ਕੇ ਛਿੜਕਾ ਕਰੋ ',\n",
       " '   प्रधान  मंत्री  किसान  सम्मान  निधि  योजना के राशि आने तक इंतज़ार करें      https://pmkisan.gov.in/BeneficiaryStatus/beneficiarystatus.aspx ',\n",
       " 'श्रीमानजी आप प्रधानमंत्री किसान सम्मान निधि योजना के लिए अपने जिले में उप कृषि निदेशक कार्यालय या ब्लॉक में राजकीय बीज गोदाम पर संपर्क करे या www.pmkisan.gov.in पर चेक करे|\\n',\n",
       " 'Information is given and also suggested to contact Raitha Samparka Kendra and KVK and Agricultural Department\\n',\n",
       " 'एग्रीकल्चर इंश्योरेंस कंपनी ऑफ़ इंडिया लिमिटेड- 1800 116 515\\n',\n",
       " 'श्रीमान जी आप गन्ने के टुकड़ों को उपचारित करने के लिए कार्बेंडाजिम 50% डब्ल्यूपी 2 ग्राम दवा 1 लीटर पानी के हिसाब से घोल बनाकर टुकड़े को 5 मिनट तक डुबोकर उपचारित कर सकते हैं |',\n",
       " 'Query:Prevent fungal disease in Amla  Answer: spray Trichoderma viride 5 gram /1 litre of water ',\n",
       " '--बैंगन के पौधे में कोई टॉनिक जैसे कि हर्बल एग्रो ग्रोथ बूस्टर या सागरिका का 1ml 1 लीटर पानी में घोल बनाकर छिड़काव करें I',\n",
       " 'ನಿಮ್ಮ ತಾಲೂಕಿನಲ್ಲಿ ಮಳೆ ನಿರೀಕ್ಷೆ ಇಲ್ಲ 5% , ಆದರೆ ಭಾಗಶಃ ಮೋಡ ಕವಿದ ವಾತಾವರಣವಿದ್ದು , ಇಂದಿನ ನಿರೀಕ್ಷೆ (ಗರಿಷ್ಠ ತಾಪಮಾನ 34° C ಮತ್ತು ಕನಿಷ್ಠ ತಾಪಮಾನ 21° C ಮತ್ತು ಗಾಳಿಯ ವೇಗ ಗಂಟೆಗೆ 8 ಕಿಲೋಮೀಟರ್ ವೇಗದಲ್ಲಿ ಚಲಿಸುವ ಸಾಧ್ಯತೆಯಿದೆ). ಹೆಚ್ಚಿನ ಮಾಹಿತಿಗಾಗಿ ವರುಣ ಮಿತ್ರ ನಂಬರಿಗೆ ಕರೆ ಮಾಡಿ - 080 67735 999   \\n',\n",
       " 'ਕਣਕ ਦੀ ਫਸਲ ਨੂੰ 5-6 ਪਾਣੀਆਂ ਦੀ ਲੋੜ ਪੈਂਦੀ ਹੈ ਅਤੇ ਜਮੀਨ ਵਿੱਚ ਨਮੀ ਦੀ ਮਾਤਰਾ ਅਤੇ ਵਰਖਾ ਦੇ ਹਿਸਾਬ ਨਾਲ ਸਿੰਚਾਈਆਂ ਦੀ ਗਿਣਤੀ ਘੱਟ ਵੱਧ ਕੀਤੀ ਜਾ ਸਕਦੀ ਹੈ-\\nਪਹਿਲਾ ਪਾਣੀ 20-25 ਦਿਨ ਬਾਅਦ, ਦੂਜਾ ਪਾਣੀ 40-45 ਦਿਨ ਬਾਅਦ, ਤੀਜਾ ਪਾਣੀ 70-75 ਦਿਨ ਬਾਅਦ, ਚੌਥਾ ਪਾਣੀ 90-95 ਦਿਨ ਬਾਅਦ, ਪੰਜਵਾਂ ਪਾਣੀ 110-115 ਦਿਨਾਂ ਬਾਅਦ ਪਰ ਜੇਕਰ 1 ਹੀ ਪਾਣੀ ਸੰਭਵ ਹੋਵੇ ਤਾਂ 20-25 ਦਿਨ ਬਾਅਦ ਲਾਓ, ਜੇ 2 ਪਾਣੀ ਸੰਭਵ ਹੋਣ ਤਾਂ ਪਹਿਲਾ 20-25 ਦਿਨ ਬਾਅਦ, ਦੂਜਾ 90-95 ਦਿਨਾਂ ਬਾਅਦ ਅਤੇ ਜੇਕਰ 3 ਪਾਣੀ ਸੰਭਵ ਹੋਣ ਤਾਂ ਪਹਿਲਾ 20-25 ਦਿਨ ਬਾਅਦ, ਦੂਜਾ ਪਾਣੀ 70-75  ਦਿਨਾਂ ਬਾਅਦ ਅਤੇ ਤੀਜਾ ਪਾਣੀ 110-115 ਦਿਨਾਂ ਬਾਅਦ ਲਾਓ \\n',\n",
       " '\\n RECOMMENDED TO SPRAY POTASSIUM NITRATE 13-0-45 @ 5 GRAMS/1 LITER OF WATER/ ACRE \\nపొటాషియం  నైట్రేట్  13-0-45 @ 5 గ్రాములు లీటరు నీటికి కలిపి  పిచికారీ చేయండి \\n',\n",
       " 'मेलाथियान की 2  ऍम अल दवा  को 1  लीटर पानी में मिला कर स्प्रे करे \\nDistrict horticulture officer\\nNew Grain Market Rohtak Phone No 01262-243705\\n',\n",
       " 'भुईमूग  रासायनिक खते : \\nखरीप हंगामात पेरणीवेळी २५ किलो नत्र (युरिया खतातून), ५० किलो स्फुरद (एसएसपी खतातून) प्रतिहेक्\\u200dटरी द्यावे. भुईमुगास नत्र व स्फुरद ही महत्त्वाची अन्नद्रव्ये आवश्\\u200dयक असतात. त्याचबरोबर गंधक व कॅल्शिअम ही दुय्यम अन्नद्रव्ये भुईमुगासाठी द्यावी लागतात. त्यामुळे स्फुरद हे अन्नद्रव्य एसएसपी खतातून द्यावे. पेरणीवेळी २०० किलो जिप्सम हे सल्फर व कॅल्शिअमची उपलब्धता करण्यासाठी जमिनीतून द्यावे, तर उर्वरित २०० किलो जिप्सम हे आऱ्या सुटताना द्यावे. जेणेकरून शेंगा लागण्याचे प्रमाण वाढते व एकूणच उत्पादन वाढते. उन्हाळी भुईमुगासाठी २५ किलो नत्र, ५० किलो स्फुरद, ४०० किलो जिप्सम असे प्रमाण ठेवावे , \\nभुईमूग -खते -पेरणी करताना १८ ४६ ०० ५० किलो+ जिप्सम(कॅल्शियम सल्फेट) ५० किलो आणि  आऱ्या सुटताना ५० किलो जिप्सम/ एकर टाकावे \\n.धन्यवाद ',\n",
       " 'श्रीमान जी प्रधानमंत्री किसान सम्मान निधि योजना के तहत आपका पंजीकरण गलत विवरण की वजह से खारिज कर दिया गया है या अभी तक आपका पंजीकरण नहीं हो पाया है अधिक जानकारी के लिए कृपया अपने यहां के राजकीय बीज गोदाम प्रभारी या जिला कृषि उपनिदेशक कार्यालय पर संपर्क करें या विभाग के नंबर पर संपर्क - 011 - 23381092 , 24300606 करके जानकारी प्राप्त करें',\n",
       " 'भुईमूग पीक वाढीसाठी फवारणी - ०० ५२ ३४  ६० ग्रॅम /१५ लिटर पाण्यामध्ये घेऊन  फवारणी करावी.धन्यवाद\\n',\n",
       " 'Recommended to wait for the next installment. \\n1st installment payment done\\t2nd installment payment done\\t3rd installment payment done\\tRft Signed by State For 4th Installment\\t-----\\nBank Name:\\tSTATE BANK OF INDIA\\tSTATE BANK OF INDIA\\tSTATE BANK OF INDIA\\t-----\\t-----\\nCredited Account:\\t*******2981\\t*******2981\\t*******2981\\t-----\\t-----\\nCredit Date:\\t29/11/2019\\t02/01/2020\\t23/01/2020\\t-----\\t-----\\nUTR No:\\t3673764539\\t4245518120\\t4899627467\\t-----\\t-----',\n",
       " 'काढणी - कांदयांचे पीक लागवडीनंतर 3 ते 4.5 महिन्\\u200dयात काढणीस तयार होते. कांद्याची पात पिवळी पडून कांदा मानेत पिवळा पडतो व पात आडवी पडते. यालाच मान मोडणे असे म्\\u200dहणतात. 60 ते 75 टक्\\u200dके माना मोडल्\\u200dयावर कांदा काढणीस पक्\\u200dव झाला असे समजावे.',\n",
       " 'Recommended to spray Spinosad 45 SC @ 5 ml per 15 lit of water to control shoot and fruit borer in brinjal plants ',\n",
       " 'भारतीय मेट्रोलॉजी विभाग के अनुसार आपके जिला मंदसौर विकासखंड भानपुरा पूर्वानुमान के अनुसार अगले 3 दिनों तक हल्की से मध्यम  बारिश होने की संभावना है और बादल छाए रहेंगे और (अधिकतम तापमान 36 डिग्री और न्यूनतम तापमान 19 डिग्री सेंटीग्रेड और हवा की गति 10-15 किमी/ घंटा तक चलने की संभावना है )\\n',\n",
       " 'प्रश्न:- कपास की बिजाई का उपयुक्त समय क्या है\\nउत्तर:- 15 अप्रैल से 10 जून तक।\\n',\n",
       " 'प्रधानमंत्री फसल बीमा योजना में नामांकन करने के लिए जन सेवा केंद्र ( CSC ) , लोकमित्र केंद्र,किसान बिमा कंपनी के एजेंटों तथा पीएमएफबीवाई पोर्टल( https://pmfby.gov.in/farmerLogin  ) या फसल बीमा एप के माध्यम से नामांकन कर सकते है।',\n",
       " 'अदरक जब पूरी तरह परिपक्व हो जाये तब उसे खेत से इस तरह निकालें कि अच्छी बिना कटी-छटी अदरक मिल सके। धब्बे रहित सफेद अदरक का चयन सोठ बनाने हेतु करें। अच्छे पानी से दो-तीन बार साफ करके मिट्टी निकाल लें। बांस के चाकू से अदरक के ऊपरी सतह से पतले छिलके निकाल लें। इसे पानी में 24 घंटे तक डुबोकर रखें अदरक की सतह से 30 से.मी. ऊपर तक पानी रखें। इसे नींबू के रस से मिले पानी में कई बार धोयें। 600 मि.ली. रस 30 लीटर पानी में डालकर घोल बनाया जा सकता है। इसे निकाल कर चूने के घोल में जब तक डुबोयें (1 किलो चूना 120 लीटर पानी) जब तक चूने की परत उस पर ना आ जाये। इसके बाद इसे धूप में सुखाये तथा टाट की पट्टियों से रगड़ कर बचे छिलके निकाल लें लीजिये आपकी सोंठ तैयार है।\\n',\n",
       " '--कृषि समन्वयक से संपर्क करें। ',\n",
       " '--प्रधानमंत्री किसान सम्मान निधि योजना के हेल्पलाइन नंबर 1800155261, 1800115526  पर संपर्क करें\\n',\n",
       " 'प्रधान मंत्री किसान सम्मान निधि योजना HELP LINE NO - 01123381092,01123382401 01124300606 1800115526  pmkisan-ict@gov.in पर संपर्क कर सकते हैं | 12 बजे से 5 बजे तक  \\n\\n( सोमवार से शुक्रवार तक ) ',\n",
       " 'श्रीमान जी पीएम किसान सम्मान निधि योजना में आप की किस्त राज्य स्तर पर अनुमोदन प्रतीक्षा में है आप प्रतीक्षा करें |',\n",
       " 'Package practice of  cucumber\\nSpacing - Row to row - 120 cm, plant to plant-120 cm\\nfertilizer - apply Urea- 10kg, DAP-25 kg, MOP-50 kg per acre  at the time of sowing and after 1 month apply 20 kg urea per acre\\nRecommended to spray Ethrel hormone at 4 ml in 15 liter of water for female flower']"
      ]
     },
     "execution_count": 14,
     "metadata": {},
     "output_type": "execute_result"
    }
   ],
   "source": [
    "kcc_ans_list = df.select(\"kcc_ans\").limit(60).rdd.flatMap(lambda x: x).collect()\n",
    "\n",
    "kcc_ans_list"
   ]
  },
  {
   "cell_type": "markdown",
   "id": "536496a4-a558-4fc1-ab75-64c949c458d2",
   "metadata": {},
   "source": [
    "*`kcc_ans` may sometimes contain PII such as phone numbers, emails, or even bank/account numbers and names. The challenge is to detect and mask these patterns reliably.*"
   ]
  },
  {
   "cell_type": "markdown",
   "id": "8d72ab2f-70a6-48bc-bae7-ef4c46307da0",
   "metadata": {},
   "source": [
    "# 2. Data Cleaning"
   ]
  },
  {
   "cell_type": "code",
   "execution_count": 22,
   "id": "19053cd8-3946-4515-ae4a-a9278c4d3e60",
   "metadata": {},
   "outputs": [
    {
     "name": "stderr",
     "output_type": "stream",
     "text": [
      "                                                                                "
     ]
    },
    {
     "name": "stdout",
     "output_type": "stream",
     "text": [
      "+--------------+-------+\n",
      "|    state_name|  count|\n",
      "+--------------+-------+\n",
      "| UTTAR PRADESH|1665263|\n",
      "|     RAJASTHAN|1142087|\n",
      "|   MAHARASHTRA| 941201|\n",
      "|MADHYA PRADESH| 823181|\n",
      "|       HARYANA| 608851|\n",
      "|        PUNJAB| 540432|\n",
      "|       GUJARAT| 510669|\n",
      "|     TAMILNADU| 444472|\n",
      "|     KARNATAKA| 427137|\n",
      "|         BIHAR| 400259|\n",
      "+--------------+-------+\n",
      "only showing top 10 rows\n",
      "\n"
     ]
    },
    {
     "name": "stderr",
     "output_type": "stream",
     "text": [
      "                                                                                "
     ]
    },
    {
     "name": "stdout",
     "output_type": "stream",
     "text": [
      "+-------------+------+\n",
      "|district_name| count|\n",
      "+-------------+------+\n",
      "|Not Available|117709|\n",
      "|  HANUMANGARH| 85093|\n",
      "|     JUNAGADH| 80621|\n",
      "|       HISSAR| 76499|\n",
      "|       JAIPUR| 75317|\n",
      "|       NAGAUR| 74335|\n",
      "|       BARMER| 73553|\n",
      "|   AHMADNAGAR| 73281|\n",
      "|   AURANGABAD| 67757|\n",
      "|        CHURU| 65801|\n",
      "+-------------+------+\n",
      "only showing top 10 rows\n",
      "\n"
     ]
    },
    {
     "name": "stderr",
     "output_type": "stream",
     "text": [
      "                                                                                "
     ]
    },
    {
     "name": "stdout",
     "output_type": "stream",
     "text": [
      "+-------------+-------+\n",
      "|   block_name|  count|\n",
      "+-------------+-------+\n",
      "|Not Available|1896112|\n",
      "|      RAJGARH|  29572|\n",
      "|  HANUMANGARH|  27036|\n",
      "|        NOHAR|  22354|\n",
      "|    JAISALMER|  21191|\n",
      "|       BHADRA|  18873|\n",
      "|        DELHI|  18208|\n",
      "|       BARMER|  17495|\n",
      "|TALWANDI SABO|  15397|\n",
      "|     BATHINDA|  14275|\n",
      "+-------------+-------+\n",
      "only showing top 10 rows\n",
      "\n"
     ]
    },
    {
     "name": "stderr",
     "output_type": "stream",
     "text": [
      "                                                                                "
     ]
    },
    {
     "name": "stdout",
     "output_type": "stream",
     "text": [
      "+--------------------+-------+\n",
      "|            category|  count|\n",
      "+--------------------+-------+\n",
      "|              Others|3330001|\n",
      "|       Not Available|1342467|\n",
      "|             Cereals|1337681|\n",
      "|          Vegetables|1097450|\n",
      "|            Oilseeds| 426311|\n",
      "|              Fruits| 425933|\n",
      "|              Pulses| 377622|\n",
      "|         Fiber Crops| 304916|\n",
      "|             Millets| 165861|\n",
      "|Condiments and Sp...| 162459|\n",
      "+--------------------+-------+\n",
      "only showing top 10 rows\n",
      "\n"
     ]
    },
    {
     "name": "stderr",
     "output_type": "stream",
     "text": [
      "                                                                                "
     ]
    },
    {
     "name": "stdout",
     "output_type": "stream",
     "text": [
      "+-------------+-------+\n",
      "|       season|  count|\n",
      "+-------------+-------+\n",
      "|Not Available|5483285|\n",
      "|       KHARIF|1601838|\n",
      "|        JAYAD|1345796|\n",
      "|         RABI|1024972|\n",
      "+-------------+-------+\n",
      "\n"
     ]
    },
    {
     "name": "stderr",
     "output_type": "stream",
     "text": [
      "                                                                                "
     ]
    },
    {
     "name": "stdout",
     "output_type": "stream",
     "text": [
      "+----------------+-------+\n",
      "|          sector|  count|\n",
      "+----------------+-------+\n",
      "|     AGRICULTURE|6785736|\n",
      "|    HORTICULTURE|2228498|\n",
      "|   Not Available| 302058|\n",
      "|ANIMAL HUSBANDRY| 120058|\n",
      "|       FISHERIES|  19541|\n",
      "+----------------+-------+\n",
      "\n"
     ]
    },
    {
     "name": "stderr",
     "output_type": "stream",
     "text": [
      "                                                                                "
     ]
    },
    {
     "name": "stdout",
     "output_type": "stream",
     "text": [
      "+--------------------+-------+\n",
      "|                crop|  count|\n",
      "+--------------------+-------+\n",
      "|              Others|3399458|\n",
      "|       Not Available|1168202|\n",
      "|               Wheat| 666864|\n",
      "|        Paddy (Dhan)| 622351|\n",
      "|      Cotton (Kapas)| 347134|\n",
      "|               Onion| 154904|\n",
      "|            Chillies| 146719|\n",
      "|Groundnut (pea nu...| 135287|\n",
      "|      Soybean (bhat)| 117797|\n",
      "|              Tomato| 116943|\n",
      "+--------------------+-------+\n",
      "only showing top 10 rows\n",
      "\n"
     ]
    },
    {
     "name": "stderr",
     "output_type": "stream",
     "text": [
      "                                                                                "
     ]
    },
    {
     "name": "stdout",
     "output_type": "stream",
     "text": [
      "+--------------------+-------+\n",
      "|          query_type|  count|\n",
      "+--------------------+-------+\n",
      "|             Weather|2540566|\n",
      "|       Not Available|2364951|\n",
      "|\\tPlant Protection\\t|1525944|\n",
      "|  Government Schemes| 823303|\n",
      "|Fertilizer Use an...| 360265|\n",
      "|  Cultural Practices| 308966|\n",
      "| Nutrient Management| 285326|\n",
      "|  Market Information| 239784|\n",
      "|           Varieties| 156727|\n",
      "|     Weed Management| 115403|\n",
      "+--------------------+-------+\n",
      "only showing top 10 rows\n",
      "\n"
     ]
    },
    {
     "name": "stderr",
     "output_type": "stream",
     "text": [
      "[Stage 82:=========================================>              (11 + 2) / 15]"
     ]
    },
    {
     "name": "stdout",
     "output_type": "stream",
     "text": [
      "+--------------------+-------+\n",
      "|            category|  count|\n",
      "+--------------------+-------+\n",
      "|              Others|3330001|\n",
      "|       Not Available|1342467|\n",
      "|             Cereals|1337681|\n",
      "|          Vegetables|1097450|\n",
      "|            Oilseeds| 426311|\n",
      "|              Fruits| 425933|\n",
      "|              Pulses| 377622|\n",
      "|         Fiber Crops| 304916|\n",
      "|             Millets| 165861|\n",
      "|Condiments and Sp...| 162459|\n",
      "+--------------------+-------+\n",
      "only showing top 10 rows\n",
      "\n"
     ]
    },
    {
     "name": "stderr",
     "output_type": "stream",
     "text": [
      "                                                                                "
     ]
    }
   ],
   "source": [
    "# 1. Define invalid values for categorical columns\n",
    "invalid_values_dict = {\n",
    "    \"state_name\": [\"NA\", \"0\"],\n",
    "    \"district_name\": [\"NA\", \"9999\"],\n",
    "    \"block_name\": [\"NA\", \"0   \"],\n",
    "    \"category\" : [\"0\"],\n",
    "    \"season\": [\"NA\"]\n",
    "}\n",
    "\n",
    "# 2. Define columns where numeric values are invalid\n",
    "regex_invalid_cols = [\"sector\", \"crop\", \"query_type\", \"category\"]\n",
    "\n",
    "# 3. Start with the original df\n",
    "df_cleaned = df\n",
    "\n",
    "# 4. Replace invalids for categorical columns\n",
    "for col_name, invalids in invalid_values_dict.items():\n",
    "    df_cleaned = df_cleaned.withColumn(\n",
    "        col_name,\n",
    "        F.when(\n",
    "            F.col(col_name).isin(invalids) | F.col(col_name).isNull(),\n",
    "            \"Not Available\"\n",
    "        ).otherwise(F.col(col_name))\n",
    "    )\n",
    "\n",
    "# 5. Replace invalids for regex columns (numeric or NA/0/null)\n",
    "for col_name in regex_invalid_cols:\n",
    "    df_cleaned = df_cleaned.withColumn(\n",
    "        col_name,\n",
    "        F.when(\n",
    "            F.col(col_name).rlike(\"^[0-9]+$\") | \n",
    "            F.col(col_name).isin(\"NA\", \"0\") | \n",
    "            F.col(col_name).isNull(),\n",
    "            \"Not Available\"\n",
    "        ).otherwise(F.col(col_name))\n",
    "    )\n",
    "\n",
    "# 6. Show results for verification\n",
    "for col in list(invalid_values_dict.keys()) + regex_invalid_cols:\n",
    "    df_cleaned.groupBy(col).count().orderBy(F.desc(\"count\")).show(10)\n"
   ]
  },
  {
   "cell_type": "code",
   "execution_count": 23,
   "id": "6ede6927-750a-4e19-ac85-2f576f91705e",
   "metadata": {},
   "outputs": [],
   "source": [
    "# query_type has some unwanted characters like \\t, we will remove that\n",
    "df_cleaned = df_cleaned.withColumn(\n",
    "    \"query_type\",\n",
    "    F.regexp_replace(\"query_type\", r\"\\t\", \"\")\n",
    ")"
   ]
  },
  {
   "cell_type": "markdown",
   "id": "fe886610-7b2a-4d78-b63a-5725f91da9c4",
   "metadata": {},
   "source": [
    "## PII Masking"
   ]
  },
  {
   "cell_type": "code",
   "execution_count": 24,
   "id": "c31fea79-9713-4e79-a0c8-f2f32eac16ec",
   "metadata": {},
   "outputs": [
    {
     "name": "stdout",
     "output_type": "stream",
     "text": [
      "+-----------------+--------------+-----------------+-------------+------------+----------+---------------+--------------------+--------------------+--------------------+--------------------+----+-----+-----------------+--------------+\n",
      "|       state_name| district_name|       block_name|       season|      sector|  category|           crop|          query_type|          query_text|             kcc_ans|          created_on|year|month|     _dlt_load_id|       _dlt_id|\n",
      "+-----------------+--------------+-----------------+-------------+------------+----------+---------------+--------------------+--------------------+--------------------+--------------------+----+-----+-----------------+--------------+\n",
      "|           PUNJAB|     GURDASPUR|FATEHGARH CHURIAN|Not Available| AGRICULTURE|    Others|         Others|             Weather|Farmer asked quer...|\\t\\t\\t\\n ਜਿਲ੍ਹੇ ਦ...|2021-03-11 11:17:...|2021|    3|1747834131.999308|j7aHEcr8qDusAw|\n",
      "|        TELANGANA|WARANGAL RURAL|        SHAYAMPET|Not Available|HORTICULTURE|Vegetables|       Chillies| Nutrient Management|CHILLI NUTRIENT M...|ఒక ఎకరాకు అగ్రోమి...|2021-03-11 11:17:...|2021|    3|1747834131.999308|Af88VOab4Ieu5g|\n",
      "|      MAHARASHTRA|         AKOLA|            PATUR|Not Available| AGRICULTURE|    Others|         Others|  Government Schemes|FARMER ASKING ABO...|शासकीय योजनांबद्द...|2021-03-11 11:18:...|2021|    3|1747834131.999308|GNESM6vZuvre4A|\n",
      "|    UTTAR PRADESH|  SHAHJAHANPUR|            KALAN|Not Available| AGRICULTURE|   Cereals|          Wheat|             Weather|Information about...|श्रीमान जी आपके य...|2021-03-11 11:18:...|2021|    3|1747834131.999308|1QmE10M6HdaFRw|\n",
      "|      MAHARASHTRA|          PUNE|           HAVELI|Not Available|HORTICULTURE|Vegetables|       Chillies|  Cultural Practices|ASKED ABOUT CHILL...|उष्‍ण आणि दमट हवा...|2021-03-11 11:18:...|2021|    3|1747834131.999308|gEraeVxEXtWWIw|\n",
      "|           ODISHA|       SONEPUR|      DUNGURIPALI|Not Available| AGRICULTURE|    Others|         Others|  Government Schemes|PM Kisan status q...|Advised to contac...|2021-03-11 11:18:...|2021|    3|1747834131.999308|9jXRVh/xy5h4BA|\n",
      "|           PUNJAB|     GURDASPUR|  DERA BABA NANAK|Not Available|HORTICULTURE|Vegetables|Pea (Vegetable)|    Plant Protection|Information regar...|ਮਟਰ ਦੀ ਫ਼ਸਲ ਨੂੰ  ਉ...|2021-03-11 11:18:...|2021|    3|1747834131.999308|+MdLrk2UmraVUA|\n",
      "|    UTTAR PRADESH|         BASTI|     PARAS RAMPUR|Not Available|HORTICULTURE|    Fruits|          Mango|    Plant Protection|Information about...|श्रीमान जी आम के ...|2021-03-11 11:19:...|2021|    3|1747834131.999308|ykVyzMRSY/ej8g|\n",
      "|           PUNJAB|      BHATINDA|           SANGAT|Not Available| AGRICULTURE|    Others|         Others|             Weather|Farmer asked quer...|ਮੌਸਮ-ਅੱਜ ਬਾਰਿਸ਼ ਦੀ...|2021-03-11 11:19:...|2021|    3|1747834131.999308|UgA5+p37FctX1A|\n",
      "|      MAHARASHTRA|          PUNE|         BARAMATI|Not Available|HORTICULTURE|Vegetables|       Chillies|    Plant Protection|ASKED ABOUT ATTAC...|--सुपर कोन्फिडोर ...|2021-03-11 11:19:...|2021|    3|1747834131.999308|9M+0QWBt84xoRQ|\n",
      "|            BIHAR|      VAISHALI|          PATEPUR|Not Available|HORTICULTURE|Vegetables|   Bitter Gourd|Seeds and Plantin...|SPACING RELATED Q...|PLANT TO PLANT -45CM|2021-03-11 11:20:...|2021|    3|1747834131.999308|GTlZO7afWRs8ZQ|\n",
      "|    UTTAR PRADESH|       LUCKNOW|    SAROJANINAGAR|Not Available| AGRICULTURE|    Others|         Others|  Government Schemes|Please provide Kn...|श्रीमान जी पीएम क...|2021-03-11 11:20:...|2021|    3|1747834131.999308|DsB+ltcX6D81zA|\n",
      "|      MAHARASHTRA|        SATARA|         KOREGAON|Not Available|HORTICULTURE|Vegetables|          Onion|  Market Information|FARMER ASKED ABOU...|कांदा बाजार भाव -...|2021-03-11 11:20:...|2021|    3|1747834131.999308|UYkIMe6Ko6NmAw|\n",
      "|      WEST BENGAL|       BANKURA|             ONDA|Not Available| AGRICULTURE|    Others|         Others|             Weather|Farmer asked quer...|আবহাওয়ার পূর্বাভ...|2021-03-11 11:20:...|2021|    3|1747834131.999308|Jqd4vTHT4xGpSg|\n",
      "|        KARNATAKA|        HASSAN|             ALUR|Not Available| AGRICULTURE|    Others|         Others|  Government Schemes|Asked about kisan...|PM-KISAN HELPLINE...|2021-03-11 11:21:...|2021|    3|1747834131.999308|JjE1CXAoFtVh4A|\n",
      "|          HARYANA|          JIND|           JULANA|Not Available| AGRICULTURE|   Cereals|          Wheat|    Water Management|Information regar...|गेहू  में अंतिम प...|2021-03-11 11:21:...|2021|    3|1747834131.999308|KyGzoNE67ZXT7w|\n",
      "|          HARYANA|       GURGAON|          PATAUDI|Not Available| AGRICULTURE|    Others|         Others|             Weather|Farmer asked quer...|आपके जिले में मौस...|2021-03-11 11:21:...|2021|    3|1747834131.999308|BaaRvnXR4Xt0gA|\n",
      "|    UTTAR PRADESH|         GONDA|      KATRA BAZAR|Not Available|HORTICULTURE|Vegetables|         Tomato|    Plant Protection|Information about...|सर आप Imidaclopri...|2021-03-11 11:21:...|2021|    3|1747834131.999308|OXbVb8Pq6uEcNQ|\n",
      "|          GUJARAT|     PORBANDAR|        PORBANDAR|Not Available| AGRICULTURE|Vegetables|          Onion|  Market Information|Farmer asked pric...|10/03/2021\\nMandi...|2021-03-11 11:22:...|2021|    3|1747834131.999308|neN8Na7nxSGaUA|\n",
      "|JAMMU AND KASHMIR|     BARAMULLA|        SINGHPORA|Not Available|HORTICULTURE|Vegetables|       Chillies|  Cultural Practices|REGARDING SEED RA...|--SEED RATE OF CH...|2021-03-11 11:23:...|2021|    3|1747834131.999308|qt+e3xIk3hrqUg|\n",
      "+-----------------+--------------+-----------------+-------------+------------+----------+---------------+--------------------+--------------------+--------------------+--------------------+----+-----+-----------------+--------------+\n",
      "only showing top 20 rows\n",
      "\n"
     ]
    }
   ],
   "source": [
    "# Mask +91 followed by 10 digits, or any standalone 10-digit number\n",
    "phone_pattern = r\"(\\+91[\\-\\s]?\\d{10})|(\\b\\d{10}\\b)\"\n",
    "# standard email regex pattern\n",
    "email_pattern = r\"[a-zA-Z0-9.\\-_]+@[a-zA-Z0-9\\-_]+\\.[a-zA-Z.]+\"\n",
    "# assuming account numbers are 9 to 18 consecutive digits\n",
    "account_pattern = r\"\\b\\d{9,18}\\b\"\n",
    "\n",
    "df_cleaned = df_cleaned.withColumn(\"kcc_ans\", F.regexp_replace(F.col(\"kcc_ans\"), phone_pattern, \"[PHONE]\"))\\\n",
    "                      .withColumn(\"kcc_ans\", F.regexp_replace(F.col(\"kcc_ans\"), email_pattern, \"[EMAIL]\"))\\\n",
    "                      .withColumn(\"kcc_ans\", F.regexp_replace(F.col(\"kcc_ans\"), account_pattern, \"[ACCOUNT]\"))\n",
    "\n",
    "df_cleaned.show()"
   ]
  },
  {
   "cell_type": "markdown",
   "id": "c7ceb8f0-6c9e-413a-9656-3b104ce1db1f",
   "metadata": {},
   "source": [
    "# Data Transformation"
   ]
  },
  {
   "cell_type": "markdown",
   "id": "81ebbaa2-3064-4a7e-9218-6dcfdfc73e93",
   "metadata": {},
   "source": [
    "fct_queries\n",
    "- query_id (surrogate key for uniquely identifying each query)\n",
    "- created_on\n",
    "- state_id (surrogate key for state_name)\n",
    "- category_id (surrogate key for category)\n",
    "- sector_id (surrogate key for sector)\n",
    "- crop\n",
    "- query_type\n",
    "- query_text\n",
    "- kcc_ans\n",
    "\n",
    "dim_demography\n",
    "- state_id\n",
    "- state_name\n",
    "- district_names (an array of districts within that state)\n",
    "- block_names (an array of block_names within that state)\n",
    "\n",
    "dim_category\n",
    "- category_id\n",
    "- category\n",
    "\n",
    "dim_sector\n",
    "- sector_id\n",
    "- sector\n",
    "\n",
    "### Surrogate Keys\n",
    "For surrogate key generation we can use row_number and partition by the unique identifier fields\n",
    "- For query_id we can use the existing _dlt_id: this is a row key generated dlt on load, (https://dlthub.com/docs/general-usage/destination-tables#naming-convention-tables-and-columns:~:text=Each%20row%20in%20all%20(root%20and%20nested)%20data%20tables%20created%20by%20dlt%20contains%20a%20unique%20column%20named%20_dlt_id%20(row%20key).)\n",
    "- state_id: partition by state_name \n",
    "- category_id: partition by category\n",
    "- sector_id: partition by sector\n",
    "\n",
    "### DDLs\n",
    "\n",
    "```\n",
    "CREATE TABLE IF NOT EXISTS fct_queries (\n",
    "    query_id INTEGER PRIMARY KEY,\n",
    "    created_on TIMESTAMP,\n",
    "    state_id INTEGER,\n",
    "    category_id INTEGER,\n",
    "    sector_id INTEGER,\n",
    "    crop TEXT,\n",
    "    query_type TEXT,\n",
    "    query_text TEXT,\n",
    "    kcc_ans TEXT\n",
    ")\n",
    "\n",
    "CREATE TABLE IF NOT EXISTS dim_demography (\n",
    "    state_id INTEGER PRIMARY KEY,\n",
    "    state_name TEXT,\n",
    "    district_names ARRAY,\n",
    "    block_names ARRAY\n",
    ")\n",
    "\n",
    "CREATE TABLE IF NOT EXISTS dim_category (\n",
    "    category_id INTEGER PRIMARY KEY,\n",
    "    category TEXT\n",
    ")\n",
    "\n",
    "CREATE TABLE IF NOT EXISTS dim_sector (\n",
    "    sector_id INTEGER PRIMARY KEY,\n",
    "    category TEXT\n",
    ")\n",
    "\n",
    "```"
   ]
  },
  {
   "cell_type": "markdown",
   "id": "ba945546-5964-4a31-88f8-fae100a0528a",
   "metadata": {},
   "source": [
    "### Plan of Execution\n",
    "Now I think there should be separate job for the first ever processing - this is when there's no schema extract and a separate job for the monthly ELT\n",
    "\n",
    "The **First Processing Job should**\n",
    "- Run DDL commands\n",
    "- Create surrogate keys for dimensions\n",
    "- Populate dimensional and fact tables\n",
    "\n",
    "**The subsequent processing jobs should**\n",
    "- append new kcc queries to fct_queries\n",
    "- generate surrogate keys within the raw queries table\n",
    "- check if they are any new entries for the dimensional tables\n",
    "- we possible cannot implement SCD 2 as that requires a unique identifier from the source data itself\n",
    "    - for instance: state_name: ABC on 23/05/2025\n",
    "    - on 29/07/2048: state_name: ABC changed to ABCD, this would generate a new surrogate key - the code cannot identify whether this is a new dim or updated"
   ]
  },
  {
   "cell_type": "code",
   "execution_count": null,
   "id": "5fddef3a-03af-47af-9eec-1712eb14962e",
   "metadata": {},
   "outputs": [],
   "source": []
  }
 ],
 "metadata": {
  "kernelspec": {
   "display_name": "Python 3 (ipykernel)",
   "language": "python",
   "name": "python3"
  },
  "language_info": {
   "codemirror_mode": {
    "name": "ipython",
    "version": 3
   },
   "file_extension": ".py",
   "mimetype": "text/x-python",
   "name": "python",
   "nbconvert_exporter": "python",
   "pygments_lexer": "ipython3",
   "version": "3.12.10"
  }
 },
 "nbformat": 4,
 "nbformat_minor": 5
}
